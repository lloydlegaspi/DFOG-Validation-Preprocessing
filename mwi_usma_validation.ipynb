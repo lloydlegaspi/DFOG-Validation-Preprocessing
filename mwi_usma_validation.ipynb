{
 "cells": [
  {
   "attachments": {},
   "cell_type": "markdown",
   "metadata": {},
   "source": [
    "MWI.USMA Validation"
   ]
  },
  {
   "attachments": {},
   "cell_type": "markdown",
   "metadata": {},
   "source": [
    "- Import"
   ]
  },
  {
   "cell_type": "code",
   "execution_count": 2,
   "metadata": {},
   "outputs": [],
   "source": [
    "import pandas as pd"
   ]
  },
  {
   "attachments": {},
   "cell_type": "markdown",
   "metadata": {},
   "source": [
    "- Explore"
   ]
  },
  {
   "cell_type": "code",
   "execution_count": 3,
   "metadata": {},
   "outputs": [
    {
     "name": "stdout",
     "output_type": "stream",
     "text": [
      "RangeIndex(start=0, stop=2231, step=1)\n"
     ]
    },
    {
     "data": {
      "text/html": [
       "<div>\n",
       "<style scoped>\n",
       "    .dataframe tbody tr th:only-of-type {\n",
       "        vertical-align: middle;\n",
       "    }\n",
       "\n",
       "    .dataframe tbody tr th {\n",
       "        vertical-align: top;\n",
       "    }\n",
       "\n",
       "    .dataframe thead th {\n",
       "        text-align: right;\n",
       "    }\n",
       "</style>\n",
       "<table border=\"1\" class=\"dataframe\">\n",
       "  <thead>\n",
       "    <tr style=\"text-align: right;\">\n",
       "      <th></th>\n",
       "      <th>article_link</th>\n",
       "      <th>title</th>\n",
       "      <th>author</th>\n",
       "      <th>author_link</th>\n",
       "      <th>article_content</th>\n",
       "    </tr>\n",
       "  </thead>\n",
       "  <tbody>\n",
       "    <tr>\n",
       "      <th>0</th>\n",
       "      <td>https://mwi.usma.edu/the-lessons-of-two-decade...</td>\n",
       "      <td>The Lessons of Two Decades of War: A Review of...</td>\n",
       "      <td>Andrew Maher</td>\n",
       "      <td>https://mwi.usma.edu/author/andrew-maher/</td>\n",
       "      <td>The Irregular Warfare Initiative’s inaugural c...</td>\n",
       "    </tr>\n",
       "    <tr>\n",
       "      <th>1</th>\n",
       "      <td>https://mwi.usma.edu/can-cyberattacks-stop-ira...</td>\n",
       "      <td>Can Cyberattacks Stop Iran's Propaganda Machin...</td>\n",
       "      <td>Sean Lawson</td>\n",
       "      <td>https://mwi.usma.edu/author/sean-lawson/</td>\n",
       "      <td>In mid-October, Reuters reported that the Unit...</td>\n",
       "    </tr>\n",
       "    <tr>\n",
       "      <th>2</th>\n",
       "      <td>https://mwi.usma.edu/remember-remember-fifth-n...</td>\n",
       "      <td>Remember, Remember the Fifth of November: Radi...</td>\n",
       "      <td>ML Cavanaugh</td>\n",
       "      <td>https://mwi.usma.edu/author/ml-cavanaugh/</td>\n",
       "      <td>Once you’ve seen a person hung, drawn, and qua...</td>\n",
       "    </tr>\n",
       "    <tr>\n",
       "      <th>3</th>\n",
       "      <td>https://mwi.usma.edu/enablers-less-effects-us-...</td>\n",
       "      <td>More Enablers, Less Effects: How the US Air Fo...</td>\n",
       "      <td>Heather Venable</td>\n",
       "      <td>https://mwi.usma.edu/author/heather-venable/</td>\n",
       "      <td>There’s an app to win wars, or so Air Force Ch...</td>\n",
       "    </tr>\n",
       "    <tr>\n",
       "      <th>4</th>\n",
       "      <td>https://mwi.usma.edu/the-law-of-armed-and-unma...</td>\n",
       "      <td>The Law of Armed—and Unmanned—Conflict - Moder...</td>\n",
       "      <td>Charles Dunlap</td>\n",
       "      <td>https://mwi.usma.edu/author/charles-dunlap/</td>\n",
       "      <td>President Joe Biden’s decision to double down ...</td>\n",
       "    </tr>\n",
       "  </tbody>\n",
       "</table>\n",
       "</div>"
      ],
      "text/plain": [
       "                                        article_link  \\\n",
       "0  https://mwi.usma.edu/the-lessons-of-two-decade...   \n",
       "1  https://mwi.usma.edu/can-cyberattacks-stop-ira...   \n",
       "2  https://mwi.usma.edu/remember-remember-fifth-n...   \n",
       "3  https://mwi.usma.edu/enablers-less-effects-us-...   \n",
       "4  https://mwi.usma.edu/the-law-of-armed-and-unma...   \n",
       "\n",
       "                                               title           author  \\\n",
       "0  The Lessons of Two Decades of War: A Review of...     Andrew Maher   \n",
       "1  Can Cyberattacks Stop Iran's Propaganda Machin...      Sean Lawson   \n",
       "2  Remember, Remember the Fifth of November: Radi...     ML Cavanaugh   \n",
       "3  More Enablers, Less Effects: How the US Air Fo...  Heather Venable   \n",
       "4  The Law of Armed—and Unmanned—Conflict - Moder...   Charles Dunlap   \n",
       "\n",
       "                                    author_link  \\\n",
       "0     https://mwi.usma.edu/author/andrew-maher/   \n",
       "1      https://mwi.usma.edu/author/sean-lawson/   \n",
       "2     https://mwi.usma.edu/author/ml-cavanaugh/   \n",
       "3  https://mwi.usma.edu/author/heather-venable/   \n",
       "4   https://mwi.usma.edu/author/charles-dunlap/   \n",
       "\n",
       "                                     article_content  \n",
       "0  The Irregular Warfare Initiative’s inaugural c...  \n",
       "1  In mid-October, Reuters reported that the Unit...  \n",
       "2  Once you’ve seen a person hung, drawn, and qua...  \n",
       "3  There’s an app to win wars, or so Air Force Ch...  \n",
       "4  President Joe Biden’s decision to double down ...  "
      ]
     },
     "execution_count": 3,
     "metadata": {},
     "output_type": "execute_result"
    }
   ],
   "source": [
    "df = pd.read_csv('mwi_usma2kv1.csv')\n",
    "print(df.index)\n",
    "df.head()"
   ]
  },
  {
   "cell_type": "code",
   "execution_count": 4,
   "metadata": {},
   "outputs": [
    {
     "data": {
      "text/html": [
       "<div>\n",
       "<style scoped>\n",
       "    .dataframe tbody tr th:only-of-type {\n",
       "        vertical-align: middle;\n",
       "    }\n",
       "\n",
       "    .dataframe tbody tr th {\n",
       "        vertical-align: top;\n",
       "    }\n",
       "\n",
       "    .dataframe thead th {\n",
       "        text-align: right;\n",
       "    }\n",
       "</style>\n",
       "<table border=\"1\" class=\"dataframe\">\n",
       "  <thead>\n",
       "    <tr style=\"text-align: right;\">\n",
       "      <th></th>\n",
       "      <th>article_link</th>\n",
       "      <th>title</th>\n",
       "      <th>author</th>\n",
       "      <th>author_link</th>\n",
       "      <th>article_content</th>\n",
       "    </tr>\n",
       "  </thead>\n",
       "  <tbody>\n",
       "    <tr>\n",
       "      <th>count</th>\n",
       "      <td>2231</td>\n",
       "      <td>2231</td>\n",
       "      <td>2231</td>\n",
       "      <td>2231</td>\n",
       "      <td>2224</td>\n",
       "    </tr>\n",
       "    <tr>\n",
       "      <th>unique</th>\n",
       "      <td>2226</td>\n",
       "      <td>2222</td>\n",
       "      <td>702</td>\n",
       "      <td>702</td>\n",
       "      <td>2218</td>\n",
       "    </tr>\n",
       "    <tr>\n",
       "      <th>top</th>\n",
       "      <td>https://mwi.usma.edu/2014104clear-strategic-th...</td>\n",
       "      <td>On Growing Strategists: Beating Back the Crede...</td>\n",
       "      <td>John Amble</td>\n",
       "      <td>https://mwi.usma.edu/author/john-amble/</td>\n",
       "      <td>Image courtesy of Flikr user UK Ministry of D...</td>\n",
       "    </tr>\n",
       "    <tr>\n",
       "      <th>freq</th>\n",
       "      <td>2</td>\n",
       "      <td>2</td>\n",
       "      <td>199</td>\n",
       "      <td>199</td>\n",
       "      <td>2</td>\n",
       "    </tr>\n",
       "  </tbody>\n",
       "</table>\n",
       "</div>"
      ],
      "text/plain": [
       "                                             article_link  \\\n",
       "count                                                2231   \n",
       "unique                                               2226   \n",
       "top     https://mwi.usma.edu/2014104clear-strategic-th...   \n",
       "freq                                                    2   \n",
       "\n",
       "                                                    title      author  \\\n",
       "count                                                2231        2231   \n",
       "unique                                               2222         702   \n",
       "top     On Growing Strategists: Beating Back the Crede...  John Amble   \n",
       "freq                                                    2         199   \n",
       "\n",
       "                                    author_link  \\\n",
       "count                                      2231   \n",
       "unique                                      702   \n",
       "top     https://mwi.usma.edu/author/john-amble/   \n",
       "freq                                        199   \n",
       "\n",
       "                                          article_content  \n",
       "count                                                2224  \n",
       "unique                                               2218  \n",
       "top      Image courtesy of Flikr user UK Ministry of D...  \n",
       "freq                                                    2  "
      ]
     },
     "execution_count": 4,
     "metadata": {},
     "output_type": "execute_result"
    }
   ],
   "source": [
    "df.describe()"
   ]
  },
  {
   "cell_type": "code",
   "execution_count": 5,
   "metadata": {},
   "outputs": [
    {
     "name": "stdout",
     "output_type": "stream",
     "text": [
      "Empty DataFrame\n",
      "Columns: [article_link, title, author, author_link, article_content]\n",
      "Index: []\n"
     ]
    }
   ],
   "source": [
    "# show only the rows where the 'article_link' column does not start with 'https'\n",
    "non_https_rows = df[~df['article_link'].str.startswith('http')]\n",
    "\n",
    "# print the resulting dataframe\n",
    "print(non_https_rows)"
   ]
  },
  {
   "attachments": {},
   "cell_type": "markdown",
   "metadata": {},
   "source": [
    "- Drop"
   ]
  },
  {
   "cell_type": "code",
   "execution_count": 6,
   "metadata": {},
   "outputs": [
    {
     "data": {
      "text/plain": [
       "article_link       0\n",
       "title              0\n",
       "author             0\n",
       "author_link        0\n",
       "article_content    7\n",
       "dtype: int64"
      ]
     },
     "execution_count": 6,
     "metadata": {},
     "output_type": "execute_result"
    }
   ],
   "source": [
    "#checking the number of missing values in each columns\n",
    "df.isna().sum()"
   ]
  },
  {
   "cell_type": "code",
   "execution_count": 7,
   "metadata": {},
   "outputs": [
    {
     "data": {
      "text/plain": [
       "article_link       0\n",
       "title              0\n",
       "author             0\n",
       "author_link        0\n",
       "article_content    0\n",
       "dtype: int64"
      ]
     },
     "execution_count": 7,
     "metadata": {},
     "output_type": "execute_result"
    }
   ],
   "source": [
    "# drop rows with missing values and reset the index\n",
    "df = df.dropna().reset_index(drop=True)\n",
    "df.isna().sum()"
   ]
  },
  {
   "cell_type": "code",
   "execution_count": 8,
   "metadata": {},
   "outputs": [
    {
     "data": {
      "text/plain": [
       "5"
      ]
     },
     "execution_count": 8,
     "metadata": {},
     "output_type": "execute_result"
    }
   ],
   "source": [
    "#duplicate values\n",
    "df.duplicated().sum()\n"
   ]
  },
  {
   "cell_type": "code",
   "execution_count": 9,
   "metadata": {},
   "outputs": [
    {
     "data": {
      "text/plain": [
       "0"
      ]
     },
     "execution_count": 9,
     "metadata": {},
     "output_type": "execute_result"
    }
   ],
   "source": [
    "df = df.drop_duplicates().reset_index(drop=True)\n",
    "df.duplicated().sum()"
   ]
  },
  {
   "cell_type": "code",
   "execution_count": 10,
   "metadata": {},
   "outputs": [
    {
     "data": {
      "text/html": [
       "<div>\n",
       "<style scoped>\n",
       "    .dataframe tbody tr th:only-of-type {\n",
       "        vertical-align: middle;\n",
       "    }\n",
       "\n",
       "    .dataframe tbody tr th {\n",
       "        vertical-align: top;\n",
       "    }\n",
       "\n",
       "    .dataframe thead th {\n",
       "        text-align: right;\n",
       "    }\n",
       "</style>\n",
       "<table border=\"1\" class=\"dataframe\">\n",
       "  <thead>\n",
       "    <tr style=\"text-align: right;\">\n",
       "      <th></th>\n",
       "      <th>article_link</th>\n",
       "      <th>title</th>\n",
       "      <th>author</th>\n",
       "      <th>author_link</th>\n",
       "      <th>article_content</th>\n",
       "    </tr>\n",
       "  </thead>\n",
       "  <tbody>\n",
       "    <tr>\n",
       "      <th>count</th>\n",
       "      <td>2219</td>\n",
       "      <td>2219</td>\n",
       "      <td>2219</td>\n",
       "      <td>2219</td>\n",
       "      <td>2219</td>\n",
       "    </tr>\n",
       "    <tr>\n",
       "      <th>unique</th>\n",
       "      <td>2219</td>\n",
       "      <td>2215</td>\n",
       "      <td>701</td>\n",
       "      <td>701</td>\n",
       "      <td>2218</td>\n",
       "    </tr>\n",
       "    <tr>\n",
       "      <th>top</th>\n",
       "      <td>https://mwi.usma.edu/the-lessons-of-two-decade...</td>\n",
       "      <td>MWI Podcast: Zombies and Global Security - Mod...</td>\n",
       "      <td>John Amble</td>\n",
       "      <td>https://mwi.usma.edu/author/john-amble/</td>\n",
       "      <td>In this episode of the Modern War Institute po...</td>\n",
       "    </tr>\n",
       "    <tr>\n",
       "      <th>freq</th>\n",
       "      <td>1</td>\n",
       "      <td>2</td>\n",
       "      <td>199</td>\n",
       "      <td>199</td>\n",
       "      <td>2</td>\n",
       "    </tr>\n",
       "  </tbody>\n",
       "</table>\n",
       "</div>"
      ],
      "text/plain": [
       "                                             article_link  \\\n",
       "count                                                2219   \n",
       "unique                                               2219   \n",
       "top     https://mwi.usma.edu/the-lessons-of-two-decade...   \n",
       "freq                                                    1   \n",
       "\n",
       "                                                    title      author  \\\n",
       "count                                                2219        2219   \n",
       "unique                                               2215         701   \n",
       "top     MWI Podcast: Zombies and Global Security - Mod...  John Amble   \n",
       "freq                                                    2         199   \n",
       "\n",
       "                                    author_link  \\\n",
       "count                                      2219   \n",
       "unique                                      701   \n",
       "top     https://mwi.usma.edu/author/john-amble/   \n",
       "freq                                        199   \n",
       "\n",
       "                                          article_content  \n",
       "count                                                2219  \n",
       "unique                                               2218  \n",
       "top     In this episode of the Modern War Institute po...  \n",
       "freq                                                    2  "
      ]
     },
     "execution_count": 10,
     "metadata": {},
     "output_type": "execute_result"
    }
   ],
   "source": [
    "df.describe()"
   ]
  },
  {
   "cell_type": "code",
   "execution_count": 11,
   "metadata": {},
   "outputs": [
    {
     "data": {
      "text/html": [
       "<div>\n",
       "<style scoped>\n",
       "    .dataframe tbody tr th:only-of-type {\n",
       "        vertical-align: middle;\n",
       "    }\n",
       "\n",
       "    .dataframe tbody tr th {\n",
       "        vertical-align: top;\n",
       "    }\n",
       "\n",
       "    .dataframe thead th {\n",
       "        text-align: right;\n",
       "    }\n",
       "</style>\n",
       "<table border=\"1\" class=\"dataframe\">\n",
       "  <thead>\n",
       "    <tr style=\"text-align: right;\">\n",
       "      <th></th>\n",
       "      <th>article_link</th>\n",
       "      <th>title</th>\n",
       "      <th>author</th>\n",
       "      <th>author_link</th>\n",
       "      <th>article_content</th>\n",
       "    </tr>\n",
       "  </thead>\n",
       "  <tbody>\n",
       "    <tr>\n",
       "      <th>count</th>\n",
       "      <td>2214</td>\n",
       "      <td>2214</td>\n",
       "      <td>2214</td>\n",
       "      <td>2214</td>\n",
       "      <td>2214</td>\n",
       "    </tr>\n",
       "    <tr>\n",
       "      <th>unique</th>\n",
       "      <td>2214</td>\n",
       "      <td>2214</td>\n",
       "      <td>701</td>\n",
       "      <td>701</td>\n",
       "      <td>2214</td>\n",
       "    </tr>\n",
       "    <tr>\n",
       "      <th>top</th>\n",
       "      <td>https://mwi.usma.edu/the-lessons-of-two-decade...</td>\n",
       "      <td>The Lessons of Two Decades of War: A Review of...</td>\n",
       "      <td>John Amble</td>\n",
       "      <td>https://mwi.usma.edu/author/john-amble/</td>\n",
       "      <td>The Irregular Warfare Initiative’s inaugural c...</td>\n",
       "    </tr>\n",
       "    <tr>\n",
       "      <th>freq</th>\n",
       "      <td>1</td>\n",
       "      <td>1</td>\n",
       "      <td>197</td>\n",
       "      <td>197</td>\n",
       "      <td>1</td>\n",
       "    </tr>\n",
       "  </tbody>\n",
       "</table>\n",
       "</div>"
      ],
      "text/plain": [
       "                                             article_link  \\\n",
       "count                                                2214   \n",
       "unique                                               2214   \n",
       "top     https://mwi.usma.edu/the-lessons-of-two-decade...   \n",
       "freq                                                    1   \n",
       "\n",
       "                                                    title      author  \\\n",
       "count                                                2214        2214   \n",
       "unique                                               2214         701   \n",
       "top     The Lessons of Two Decades of War: A Review of...  John Amble   \n",
       "freq                                                    1         197   \n",
       "\n",
       "                                    author_link  \\\n",
       "count                                      2214   \n",
       "unique                                      701   \n",
       "top     https://mwi.usma.edu/author/john-amble/   \n",
       "freq                                        197   \n",
       "\n",
       "                                          article_content  \n",
       "count                                                2214  \n",
       "unique                                               2214  \n",
       "top     The Irregular Warfare Initiative’s inaugural c...  \n",
       "freq                                                    1  "
      ]
     },
     "execution_count": 11,
     "metadata": {},
     "output_type": "execute_result"
    }
   ],
   "source": [
    "df = df.drop_duplicates(subset=['article_content'], keep='first')\n",
    "df = df.drop_duplicates(subset=['title'], keep='first')\n",
    "df.describe()"
   ]
  },
  {
   "cell_type": "code",
   "execution_count": 12,
   "metadata": {},
   "outputs": [
    {
     "name": "stdout",
     "output_type": "stream",
     "text": [
      "                                           article_link  \\\n",
      "908   https://mwi.usma.edu/royal-united-services-ins...   \n",
      "1614  https://mwi.usma.edu/drone-swarms-change-urban...   \n",
      "\n",
      "                                                  title        author  \\\n",
      "908   Royal United Services Institute’s Annual Trenc...     MWI Staff   \n",
      "1614  How Drone Swarms Could Change Urban Warfare - ...  John Spencer   \n",
      "\n",
      "                                    author_link  \\\n",
      "908      https://mwi.usma.edu/author/mwi-staff/   \n",
      "1614  https://mwi.usma.edu/author/john-spencer/   \n",
      "\n",
      "                       article_content  \n",
      "908      Trench Gascoigne Essay Prize   \n",
      "1614      Image credit: DroneOmega.com  \n"
     ]
    }
   ],
   "source": [
    "def is_article(row):\n",
    "    # check if the 'article_content' column contains at least 100 characters (change this threshold as needed)\n",
    "    return len(row['article_content']) > 50\n",
    "\n",
    "# apply the 'is_article' function to each row and select only the rows that contain an article\n",
    "article_rows = df[~df.apply(is_article, axis=1)]\n",
    "\n",
    "# print the resulting dataframe\n",
    "print(article_rows)"
   ]
  },
  {
   "cell_type": "code",
   "execution_count": 13,
   "metadata": {},
   "outputs": [
    {
     "data": {
      "text/html": [
       "<div>\n",
       "<style scoped>\n",
       "    .dataframe tbody tr th:only-of-type {\n",
       "        vertical-align: middle;\n",
       "    }\n",
       "\n",
       "    .dataframe tbody tr th {\n",
       "        vertical-align: top;\n",
       "    }\n",
       "\n",
       "    .dataframe thead th {\n",
       "        text-align: right;\n",
       "    }\n",
       "</style>\n",
       "<table border=\"1\" class=\"dataframe\">\n",
       "  <thead>\n",
       "    <tr style=\"text-align: right;\">\n",
       "      <th></th>\n",
       "      <th>article_link</th>\n",
       "      <th>title</th>\n",
       "      <th>author</th>\n",
       "      <th>author_link</th>\n",
       "      <th>article_content</th>\n",
       "    </tr>\n",
       "  </thead>\n",
       "  <tbody>\n",
       "    <tr>\n",
       "      <th>907</th>\n",
       "      <td>https://mwi.usma.edu/stuck-in-the-sand-why-the...</td>\n",
       "      <td>Stuck in the Sand: Why the Joint Light Tactica...</td>\n",
       "      <td>Walker Mills</td>\n",
       "      <td>https://mwi.usma.edu/author/walker-mills/</td>\n",
       "      <td>In 2020 the US military requested an eye-poppi...</td>\n",
       "    </tr>\n",
       "    <tr>\n",
       "      <th>908</th>\n",
       "      <td>https://mwi.usma.edu/mwi-podcast-building-mili...</td>\n",
       "      <td>MWI Podcast: Building Militaries in Fragile St...</td>\n",
       "      <td>Jake Miraldi</td>\n",
       "      <td>https://mwi.usma.edu/author/jake-miraldi/</td>\n",
       "      <td>In this episode of the MWI Podcast, Maj. Jake ...</td>\n",
       "    </tr>\n",
       "    <tr>\n",
       "      <th>909</th>\n",
       "      <td>https://mwi.usma.edu/waterworld-how-ukraine-fl...</td>\n",
       "      <td>Waterworld: How Ukraine Flooded Three Rivers t...</td>\n",
       "      <td>John Spencer</td>\n",
       "      <td>https://mwi.usma.edu/author/john-spencer/</td>\n",
       "      <td>Off the eastern coast of central Greece sit hi...</td>\n",
       "    </tr>\n",
       "    <tr>\n",
       "      <th>910</th>\n",
       "      <td>https://mwi.usma.edu/mwi-podcast-will-technolo...</td>\n",
       "      <td>MWI Podcast: How will Technology Change Future...</td>\n",
       "      <td>John Amble</td>\n",
       "      <td>https://mwi.usma.edu/author/john-amble/</td>\n",
       "      <td>Artificial intelligence. Quantum computing. Na...</td>\n",
       "    </tr>\n",
       "    <tr>\n",
       "      <th>911</th>\n",
       "      <td>https://mwi.usma.edu/counterterrorism-and-the-...</td>\n",
       "      <td>Counterterrorism and the Israel-Palestine Conf...</td>\n",
       "      <td>Molly Ellenberg</td>\n",
       "      <td>https://mwi.usma.edu/author/molly-ellenberg/</td>\n",
       "      <td>Ami Ayalon, Friendly Fire: How Israel Became I...</td>\n",
       "    </tr>\n",
       "  </tbody>\n",
       "</table>\n",
       "</div>"
      ],
      "text/plain": [
       "                                          article_link  \\\n",
       "907  https://mwi.usma.edu/stuck-in-the-sand-why-the...   \n",
       "908  https://mwi.usma.edu/mwi-podcast-building-mili...   \n",
       "909  https://mwi.usma.edu/waterworld-how-ukraine-fl...   \n",
       "910  https://mwi.usma.edu/mwi-podcast-will-technolo...   \n",
       "911  https://mwi.usma.edu/counterterrorism-and-the-...   \n",
       "\n",
       "                                                 title           author  \\\n",
       "907  Stuck in the Sand: Why the Joint Light Tactica...     Walker Mills   \n",
       "908  MWI Podcast: Building Militaries in Fragile St...     Jake Miraldi   \n",
       "909  Waterworld: How Ukraine Flooded Three Rivers t...     John Spencer   \n",
       "910  MWI Podcast: How will Technology Change Future...       John Amble   \n",
       "911  Counterterrorism and the Israel-Palestine Conf...  Molly Ellenberg   \n",
       "\n",
       "                                      author_link  \\\n",
       "907     https://mwi.usma.edu/author/walker-mills/   \n",
       "908     https://mwi.usma.edu/author/jake-miraldi/   \n",
       "909     https://mwi.usma.edu/author/john-spencer/   \n",
       "910       https://mwi.usma.edu/author/john-amble/   \n",
       "911  https://mwi.usma.edu/author/molly-ellenberg/   \n",
       "\n",
       "                                       article_content  \n",
       "907  In 2020 the US military requested an eye-poppi...  \n",
       "908  In this episode of the MWI Podcast, Maj. Jake ...  \n",
       "909  Off the eastern coast of central Greece sit hi...  \n",
       "910  Artificial intelligence. Quantum computing. Na...  \n",
       "911  Ami Ayalon, Friendly Fire: How Israel Became I...  "
      ]
     },
     "execution_count": 13,
     "metadata": {},
     "output_type": "execute_result"
    }
   ],
   "source": [
    "#dropping rows that contains non-news data\n",
    "df = df.drop([908, 1614]).reset_index(drop=True)\n",
    "df.loc[907:911]"
   ]
  },
  {
   "cell_type": "code",
   "execution_count": 14,
   "metadata": {},
   "outputs": [
    {
     "data": {
      "text/html": [
       "<div>\n",
       "<style scoped>\n",
       "    .dataframe tbody tr th:only-of-type {\n",
       "        vertical-align: middle;\n",
       "    }\n",
       "\n",
       "    .dataframe tbody tr th {\n",
       "        vertical-align: top;\n",
       "    }\n",
       "\n",
       "    .dataframe thead th {\n",
       "        text-align: right;\n",
       "    }\n",
       "</style>\n",
       "<table border=\"1\" class=\"dataframe\">\n",
       "  <thead>\n",
       "    <tr style=\"text-align: right;\">\n",
       "      <th></th>\n",
       "      <th>article_link</th>\n",
       "      <th>title</th>\n",
       "      <th>author</th>\n",
       "      <th>author_link</th>\n",
       "      <th>article_content</th>\n",
       "    </tr>\n",
       "  </thead>\n",
       "  <tbody>\n",
       "    <tr>\n",
       "      <th>count</th>\n",
       "      <td>2212</td>\n",
       "      <td>2212</td>\n",
       "      <td>2212</td>\n",
       "      <td>2212</td>\n",
       "      <td>2212</td>\n",
       "    </tr>\n",
       "    <tr>\n",
       "      <th>unique</th>\n",
       "      <td>2212</td>\n",
       "      <td>2212</td>\n",
       "      <td>701</td>\n",
       "      <td>701</td>\n",
       "      <td>2212</td>\n",
       "    </tr>\n",
       "    <tr>\n",
       "      <th>top</th>\n",
       "      <td>https://mwi.usma.edu/the-lessons-of-two-decade...</td>\n",
       "      <td>The Lessons of Two Decades of War: A Review of...</td>\n",
       "      <td>John Amble</td>\n",
       "      <td>https://mwi.usma.edu/author/john-amble/</td>\n",
       "      <td>The Irregular Warfare Initiative’s inaugural c...</td>\n",
       "    </tr>\n",
       "    <tr>\n",
       "      <th>freq</th>\n",
       "      <td>1</td>\n",
       "      <td>1</td>\n",
       "      <td>197</td>\n",
       "      <td>197</td>\n",
       "      <td>1</td>\n",
       "    </tr>\n",
       "  </tbody>\n",
       "</table>\n",
       "</div>"
      ],
      "text/plain": [
       "                                             article_link  \\\n",
       "count                                                2212   \n",
       "unique                                               2212   \n",
       "top     https://mwi.usma.edu/the-lessons-of-two-decade...   \n",
       "freq                                                    1   \n",
       "\n",
       "                                                    title      author  \\\n",
       "count                                                2212        2212   \n",
       "unique                                               2212         701   \n",
       "top     The Lessons of Two Decades of War: A Review of...  John Amble   \n",
       "freq                                                    1         197   \n",
       "\n",
       "                                    author_link  \\\n",
       "count                                      2212   \n",
       "unique                                      701   \n",
       "top     https://mwi.usma.edu/author/john-amble/   \n",
       "freq                                        197   \n",
       "\n",
       "                                          article_content  \n",
       "count                                                2212  \n",
       "unique                                               2212  \n",
       "top     The Irregular Warfare Initiative’s inaugural c...  \n",
       "freq                                                    1  "
      ]
     },
     "execution_count": 14,
     "metadata": {},
     "output_type": "execute_result"
    }
   ],
   "source": [
    "df.describe()"
   ]
  },
  {
   "attachments": {},
   "cell_type": "markdown",
   "metadata": {},
   "source": [
    "- Add"
   ]
  },
  {
   "cell_type": "code",
   "execution_count": 23,
   "metadata": {},
   "outputs": [],
   "source": [
    "#adding the article type column\n",
    "df['article_type'] = ['opinion' for x in range(len(df))]"
   ]
  },
  {
   "cell_type": "code",
   "execution_count": 24,
   "metadata": {},
   "outputs": [
    {
     "data": {
      "text/html": [
       "<div>\n",
       "<style scoped>\n",
       "    .dataframe tbody tr th:only-of-type {\n",
       "        vertical-align: middle;\n",
       "    }\n",
       "\n",
       "    .dataframe tbody tr th {\n",
       "        vertical-align: top;\n",
       "    }\n",
       "\n",
       "    .dataframe thead th {\n",
       "        text-align: right;\n",
       "    }\n",
       "</style>\n",
       "<table border=\"1\" class=\"dataframe\">\n",
       "  <thead>\n",
       "    <tr style=\"text-align: right;\">\n",
       "      <th></th>\n",
       "      <th>article_link</th>\n",
       "      <th>title</th>\n",
       "      <th>author</th>\n",
       "      <th>author_link</th>\n",
       "      <th>article_content</th>\n",
       "      <th>article_type</th>\n",
       "    </tr>\n",
       "  </thead>\n",
       "  <tbody>\n",
       "    <tr>\n",
       "      <th>count</th>\n",
       "      <td>2212</td>\n",
       "      <td>2212</td>\n",
       "      <td>2212</td>\n",
       "      <td>2212</td>\n",
       "      <td>2212</td>\n",
       "      <td>2212</td>\n",
       "    </tr>\n",
       "    <tr>\n",
       "      <th>unique</th>\n",
       "      <td>2212</td>\n",
       "      <td>2212</td>\n",
       "      <td>701</td>\n",
       "      <td>701</td>\n",
       "      <td>2212</td>\n",
       "      <td>1</td>\n",
       "    </tr>\n",
       "    <tr>\n",
       "      <th>top</th>\n",
       "      <td>https://mwi.usma.edu/the-lessons-of-two-decade...</td>\n",
       "      <td>The Lessons of Two Decades of War: A Review of...</td>\n",
       "      <td>John Amble</td>\n",
       "      <td>https://mwi.usma.edu/author/john-amble/</td>\n",
       "      <td>The Irregular Warfare Initiative’s inaugural c...</td>\n",
       "      <td>opinion</td>\n",
       "    </tr>\n",
       "    <tr>\n",
       "      <th>freq</th>\n",
       "      <td>1</td>\n",
       "      <td>1</td>\n",
       "      <td>197</td>\n",
       "      <td>197</td>\n",
       "      <td>1</td>\n",
       "      <td>2212</td>\n",
       "    </tr>\n",
       "  </tbody>\n",
       "</table>\n",
       "</div>"
      ],
      "text/plain": [
       "                                             article_link  \\\n",
       "count                                                2212   \n",
       "unique                                               2212   \n",
       "top     https://mwi.usma.edu/the-lessons-of-two-decade...   \n",
       "freq                                                    1   \n",
       "\n",
       "                                                    title      author  \\\n",
       "count                                                2212        2212   \n",
       "unique                                               2212         701   \n",
       "top     The Lessons of Two Decades of War: A Review of...  John Amble   \n",
       "freq                                                    1         197   \n",
       "\n",
       "                                    author_link  \\\n",
       "count                                      2212   \n",
       "unique                                      701   \n",
       "top     https://mwi.usma.edu/author/john-amble/   \n",
       "freq                                        197   \n",
       "\n",
       "                                          article_content article_type  \n",
       "count                                                2212         2212  \n",
       "unique                                               2212            1  \n",
       "top     The Irregular Warfare Initiative’s inaugural c...      opinion  \n",
       "freq                                                    1         2212  "
      ]
     },
     "execution_count": 24,
     "metadata": {},
     "output_type": "execute_result"
    }
   ],
   "source": [
    "df.describe()"
   ]
  },
  {
   "attachments": {},
   "cell_type": "markdown",
   "metadata": {},
   "source": [
    "- Export"
   ]
  },
  {
   "cell_type": "code",
   "execution_count": 25,
   "metadata": {},
   "outputs": [],
   "source": [
    "df.to_csv('mwi_usma2kv1_validated.csv', index=False)"
   ]
  }
 ],
 "metadata": {
  "kernelspec": {
   "display_name": "Python 3",
   "language": "python",
   "name": "python3"
  },
  "language_info": {
   "codemirror_mode": {
    "name": "ipython",
    "version": 3
   },
   "file_extension": ".py",
   "mimetype": "text/x-python",
   "name": "python",
   "nbconvert_exporter": "python",
   "pygments_lexer": "ipython3",
   "version": "3.11.2"
  },
  "orig_nbformat": 4
 },
 "nbformat": 4,
 "nbformat_minor": 2
}
